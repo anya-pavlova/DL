{
 "cells": [
  {
   "cell_type": "markdown",
   "metadata": {},
   "source": [
    "This requires you to write a 2D GAN game. I let you to get into the topic yourself, whitout any explonations from my side. You can watch lecture, seminar, read papers and tutorials (fun, fun, fun)."
   ]
  },
  {
   "cell_type": "markdown",
   "metadata": {},
   "source": [
    "### Homework"
   ]
  },
  {
   "cell_type": "markdown",
   "metadata": {
    "collapsed": true
   },
   "source": [
    "I want you to implement a simple 2D GAN game. The kind of animation, I want to see is like in [this video](https://www.youtube.com/watch?v=KeJINHjyzOU) at 15:30 or in [here](https://habrahabr.ru/post/275429/) but in 2D. You can google, search code at github, whatever, but the network should be based on Theano. \n",
    "\n",
    "Basically you will need to come up with true distribution $P$, say mixture of gaussians (surprise me), sample some data from it. Visualize it as a heatmap. To visualize $G$ density you can fix $N$ noise vectors $\\{z_i\\} \\quad i=1,\\dots, N$ and draw a circle for each $G(z_i)$. It is also funny to visualize discriminator as a vector field (can be done with `plt.arrow`, `plt.quiver`). Look how it should be in the middle of [this page](http://www.inference.vc/an-alternative-update-rule-for-generative-adversarial-networks/).\n",
    "\n",
    "Please, render your animation to video (`.mp4`) or to `.webm` format. `.gif` typically is very heavy in size.\n",
    "\n",
    "And make sure your code works if 'Run All' is pressed and it draws the animation you've rendered.\n",
    "\n",
    "Good luck!"
   ]
  },
  {
   "cell_type": "code",
   "execution_count": 1,
   "metadata": {
    "collapsed": false
   },
   "outputs": [
    {
     "name": "stderr",
     "output_type": "stream",
     "text": [
      "Using cuDNN version 5105 on context None\n",
      "Mapped name None to device cuda: GeForce GTX TITAN X (0000:04:00.0)\n",
      "WARNING (theano.sandbox.cuda): The cuda backend is deprecated and will be removed in the next release (v0.10).  Please switch to the gpuarray backend. You can get more information about how to switch at this URL:\n",
      " https://github.com/Theano/Theano/wiki/Converting-to-the-new-gpu-back-end%28gpuarray%29\n",
      "\n",
      "Using gpu device 0: GeForce GTX TITAN X (CNMeM is disabled, cuDNN 5105)\n"
     ]
    }
   ],
   "source": [
    "import theano.sandbox.cuda\n",
    "theano.sandbox.cuda.use('gpu0')"
   ]
  },
  {
   "cell_type": "code",
   "execution_count": 2,
   "metadata": {
    "collapsed": false
   },
   "outputs": [],
   "source": [
    "import matplotlib.pyplot as plt\n",
    "import numpy as np\n",
    "import theano\n",
    "import theano.tensor as T\n",
    "import lasagne\n",
    "from lasagne.utils import floatX\n",
    "from IPython import display\n",
    "import seaborn as sns\n",
    "%matplotlib inline"
   ]
  },
  {
   "cell_type": "markdown",
   "metadata": {},
   "source": [
    "### Functions to genearate samples and noise"
   ]
  },
  {
   "cell_type": "code",
   "execution_count": 3,
   "metadata": {
    "collapsed": true
   },
   "outputs": [],
   "source": [
    "def samples(batch_size):\n",
    "    k = np.random.binomial(batch_size, 0.5, 1)\n",
    "    X1 = np.random.multivariate_normal([0., 0.], [[25., 0], [0, 1]], k)\n",
    "    X2 = np.random.multivariate_normal([0., 0.], [[1., 0], [0, 25.]], batch_size - k)\n",
    "    return np.vstack([X1, X2])"
   ]
  },
  {
   "cell_type": "code",
   "execution_count": 4,
   "metadata": {
    "collapsed": true
   },
   "outputs": [],
   "source": [
    "def noise(batch_size):\n",
    "    X = np.random.multivariate_normal([0., 0], [[1., 0], [0, 1]], batch_size)\n",
    "    return X"
   ]
  },
  {
   "cell_type": "markdown",
   "metadata": {},
   "source": [
    "### Generative network"
   ]
  },
  {
   "cell_type": "code",
   "execution_count": 5,
   "metadata": {
    "collapsed": false
   },
   "outputs": [],
   "source": [
    "G = {}\n",
    "G_input = T.matrix()\n",
    "G['input'] = lasagne.layers.InputLayer((None, 2), G_input)\n",
    "G['dense1'] = lasagne.layers.DenseLayer(G['input'], 15, \n",
    "                                        nonlinearity=lasagne.nonlinearities.rectify)\n",
    "G['dense2'] = lasagne.layers.DenseLayer(G['dense1'], 15, \n",
    "                                        nonlinearity=lasagne.nonlinearities.rectify)\n",
    "G['output'] = lasagne.layers.DenseLayer(G['dense2'], 2, nonlinearity=None)\n",
    "G_out = lasagne.layers.get_output(G['output'])"
   ]
  },
  {
   "cell_type": "markdown",
   "metadata": {},
   "source": [
    "### Discriminator network"
   ]
  },
  {
   "cell_type": "code",
   "execution_count": 6,
   "metadata": {
    "collapsed": true
   },
   "outputs": [],
   "source": [
    "D = {}\n",
    "D_input = T.matrix()\n",
    "D['input'] = lasagne.layers.InputLayer((None, 2), D_input)\n",
    "D['dense1'] = lasagne.layers.DenseLayer(D['input'], 15, \n",
    "                                        nonlinearity=lasagne.nonlinearities.tanh)\n",
    "D['dense2'] = lasagne.layers.DenseLayer(D['dense1'], 15, nonlinearity=\n",
    "                                        lasagne.nonlinearities.tanh)\n",
    "D['output'] = lasagne.layers.DenseLayer(D['dense2'], 1, \n",
    "                                        nonlinearity=lasagne.nonlinearities.sigmoid)"
   ]
  },
  {
   "cell_type": "code",
   "execution_count": 7,
   "metadata": {
    "collapsed": true
   },
   "outputs": [],
   "source": [
    "real_out = lasagne.layers.get_output(D['output'], {D['input']: D_input})\n",
    "fake_out = lasagne.layers.get_output(D['output'], {D['input']: G_out})"
   ]
  },
  {
   "cell_type": "markdown",
   "metadata": {},
   "source": [
    "### Output functions"
   ]
  },
  {
   "cell_type": "code",
   "execution_count": 8,
   "metadata": {
    "collapsed": false
   },
   "outputs": [],
   "source": [
    "discriminate = theano.function([D_input], real_out)\n",
    "generate = theano.function([G_input], G_out)"
   ]
  },
  {
   "cell_type": "markdown",
   "metadata": {},
   "source": [
    "### Objectives"
   ]
  },
  {
   "cell_type": "code",
   "execution_count": 9,
   "metadata": {
    "collapsed": false
   },
   "outputs": [],
   "source": [
    "G_obj = (T.log(fake_out)).mean()\n",
    "D_obj = (T.log(real_out) + T.log(1 - fake_out)).mean()"
   ]
  },
  {
   "cell_type": "code",
   "execution_count": 10,
   "metadata": {
    "collapsed": true
   },
   "outputs": [],
   "source": [
    "G_params = lasagne.layers.get_all_params(G['output'], trainable=True)\n",
    "G_lr = theano.shared(np.array(1e-3, dtype=theano.config.floatX))\n",
    "G_updates = lasagne.updates.adam(1 - G_obj, G_params, learning_rate=G_lr)\n",
    "G_train = theano.function([G_input], G_obj, updates=G_updates)\n",
    "\n",
    "D_params = lasagne.layers.get_all_params(D['output'], trainable=True)\n",
    "D_lr = theano.shared(np.array(1e-2, dtype=theano.config.floatX))\n",
    "D_updates = lasagne.updates.adam(1 - D_obj, D_params, learning_rate=D_lr)\n",
    "D_train = theano.function([G_input, D_input], D_obj, updates=D_updates)"
   ]
  },
  {
   "cell_type": "code",
   "execution_count": 11,
   "metadata": {
    "collapsed": false
   },
   "outputs": [
    {
     "data": {
      "image/png": "[encoded data removed]",
      "text/plain": [
       "<matplotlib.figure.Figure at 0x2ac391bfee10>"
      ]
     },
     "metadata": {},
     "output_type": "display_data"
    },
    {
     "data": {
      "image/png": "[encoded data removed]",
      "text/plain": [
       "<matplotlib.figure.Figure at 0x2ac391bfee10>"
      ]
     },
     "metadata": {},
     "output_type": "display_data"
    }
   ],
   "source": [
    "batch_size = 64\n",
    "epochs = 500\n",
    "k = 10\n",
    "\n",
    "cmap = sns.cubehelix_palette(light=1, as_cmap=True)\n",
    "\n",
    "samples_to_plot = samples(5000)\n",
    "pic = 1\n",
    "\n",
    "for i in range(epochs):\n",
    "    for j in range(k):\n",
    "        X = floatX(samples(batch_size))  # sampled m-batch from p_data\n",
    "        Z = floatX(noise(batch_size))  # sample m-batch from noise prior\n",
    "        D_train(Z, X)\n",
    "    Z = floatX(noise(batch_size))\n",
    "    G_train(Z)\n",
    "    if i % 10 == 0:\n",
    "        G_lr *= 0.999\n",
    "        D_lr *= 0.999\n",
    "    if i % 40 == 0:\n",
    "        batch_to_plot = generate(Z)\n",
    "        sns.kdeplot(samples_to_plot[:, 0], samples_to_plot[:, 1], cmap=cmap, shade=True)    \n",
    "        plt.scatter(batch_to_plot[:, 0], batch_to_plot[:, 1], c='b')\n",
    "        display.clear_output(wait=True)\n",
    "        display.display(plt.gcf())\n",
    "        plt.savefig('pic_%02d.jpg' % pic)\n",
    "        pic += 1 "
   ]
  },
  {
   "cell_type": "code",
   "execution_count": null,
   "metadata": {
    "collapsed": true
   },
   "outputs": [],
   "source": [
    "!convert -delay 35 pic_*.jpg anim.gif"
   ]
  }
 ],
 "metadata": {
  "anaconda-cloud": {},
  "kernelspec": {
   "display_name": "Python [default]",
   "language": "python",
   "name": "python2"
  },
  "language_info": {
   "codemirror_mode": {
    "name": "ipython",
    "version": 2
   },
   "file_extension": ".py",
   "mimetype": "text/x-python",
   "name": "python",
   "nbconvert_exporter": "python",
   "pygments_lexer": "ipython2",
   "version": "2.7.12"
  }
 },
 "nbformat": 4,
 "nbformat_minor": 1
}
