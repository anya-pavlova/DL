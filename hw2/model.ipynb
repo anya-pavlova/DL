{
 "cells": [
  {
   "cell_type": "markdown",
   "metadata": {},
   "source": [
    "I used pretrained resnet-50 and inception-v3 from https://github.com/Lasagne/Recipes. I obtained vectors from layer before softmax. These vectors was concatenated (4096 dimension vector as a result) and used as input for a simple two layer neural network. Parametres for this network was choosen by testing on validation dataset."
   ]
  },
  {
   "cell_type": "code",
   "execution_count": 1,
   "metadata": {
    "collapsed": false,
    "scrolled": true
   },
   "outputs": [
    {
     "name": "stderr",
     "output_type": "stream",
     "text": [
      "Using cuDNN version 5105 on context None\n",
      "Mapped name None to device cuda: GeForce GTX TITAN X (0000:04:00.0)\n",
      "WARNING (theano.sandbox.cuda): The cuda backend is deprecated and will be removed in the next release (v0.10).  Please switch to the gpuarray backend. You can get more information about how to switch at this URL:\n",
      " https://github.com/Theano/Theano/wiki/Converting-to-the-new-gpu-back-end%28gpuarray%29\n",
      "\n",
      "Using gpu device 7: GeForce GTX TITAN X (CNMeM is disabled, cuDNN 5105)\n"
     ]
    }
   ],
   "source": [
    "import theano.sandbox.cuda\n",
    "theano.sandbox.cuda.use('gpu7')"
   ]
  },
  {
   "cell_type": "code",
   "execution_count": 2,
   "metadata": {
    "collapsed": false
   },
   "outputs": [],
   "source": [
    "import numpy as np\n",
    "import theano\n",
    "import theano.tensor as T\n",
    "import lasagne\n",
    "import time"
   ]
  },
  {
   "cell_type": "markdown",
   "metadata": {},
   "source": [
    "### Load data"
   ]
  },
  {
   "cell_type": "code",
   "execution_count": 3,
   "metadata": {
    "collapsed": true
   },
   "outputs": [],
   "source": [
    "resnet_data = np.load('data_resnet.npz')\n",
    "inception_data = np.load('data_inception.npz')"
   ]
  },
  {
   "cell_type": "code",
   "execution_count": 4,
   "metadata": {
    "collapsed": true
   },
   "outputs": [],
   "source": [
    "y_train = np.zeros(25000, dtype=np.int64)\n",
    "y_train[:12500] = 1"
   ]
  },
  {
   "cell_type": "code",
   "execution_count": 5,
   "metadata": {
    "collapsed": false
   },
   "outputs": [],
   "source": [
    "X_train = np.hstack([resnet_data['X_train'], inception_data['X_train']])\n",
    "X_test = np.hstack([resnet_data['X_test'], inception_data['X_test']])"
   ]
  },
  {
   "cell_type": "code",
   "execution_count": 6,
   "metadata": {
    "collapsed": true
   },
   "outputs": [],
   "source": [
    "X_train = X_train.astype(np.float32)\n",
    "X_test = X_test.astype(np.float32)"
   ]
  },
  {
   "cell_type": "code",
   "execution_count": 7,
   "metadata": {
    "collapsed": true
   },
   "outputs": [],
   "source": [
    "from sklearn.model_selection import train_test_split\n",
    "\n",
    "X_train, X_val, y_train, y_val = train_test_split(X_train, y_train, test_size=0.1)"
   ]
  },
  {
   "cell_type": "markdown",
   "metadata": {},
   "source": [
    "### Model"
   ]
  },
  {
   "cell_type": "code",
   "execution_count": 8,
   "metadata": {
    "collapsed": true
   },
   "outputs": [],
   "source": [
    "net = {}\n",
    "net['input'] = lasagne.layers.InputLayer((None, X_train.shape[1]))\n",
    "net['dropout'] = lasagne.layers.DropoutLayer(net['input'], p=0.4)\n",
    "net['dense_1'] = lasagne.layers.DenseLayer(\n",
    "    net['dropout'], \n",
    "    512, \n",
    "    nonlinearity=lasagne.nonlinearities.LeakyRectify())\n",
    "net['dense_2'] = lasagne.layers.DenseLayer(net['dense_1'], 2, nonlinearity=None)\n",
    "net['prob'] = lasagne.layers.NonlinearityLayer(net['dense_2'], lasagne.nonlinearities.softmax)"
   ]
  },
  {
   "cell_type": "code",
   "execution_count": 9,
   "metadata": {
    "collapsed": false
   },
   "outputs": [],
   "source": [
    "input_X = T.fmatrix('X')\n",
    "target_y = T.vector('y', dtype='int64') "
   ]
  },
  {
   "cell_type": "code",
   "execution_count": 10,
   "metadata": {
    "collapsed": true
   },
   "outputs": [],
   "source": [
    "predicted_y = lasagne.layers.get_output(net['prob'], input_X)\n",
    "evaluated_y = lasagne.layers.get_output(net['prob'], input_X, deterministic=True)\n",
    "\n",
    "loss = lasagne.objectives.categorical_crossentropy(predicted_y, target_y).mean()\n",
    "train_accuracy = lasagne.objectives.categorical_accuracy(predicted_y, target_y).mean()\n",
    "\n",
    "accuracy = lasagne.objectives.categorical_accuracy(evaluated_y, target_y).mean()"
   ]
  },
  {
   "cell_type": "code",
   "execution_count": 11,
   "metadata": {
    "collapsed": true
   },
   "outputs": [],
   "source": [
    "weights = lasagne.layers.get_all_params(net['prob'], trainable=True)\n",
    "lr = theano.shared(np.array(4 * 1e-4, dtype=np.float32))\n",
    "updates = lasagne.updates.adam(loss, weights, learning_rate=lr)"
   ]
  },
  {
   "cell_type": "code",
   "execution_count": 12,
   "metadata": {
    "collapsed": true
   },
   "outputs": [],
   "source": [
    "train_fun = theano.function([input_X, target_y], [loss, train_accuracy], updates=updates)\n",
    "predict_fun = theano.function([input_X], evaluated_y)"
   ]
  },
  {
   "cell_type": "markdown",
   "metadata": {},
   "source": [
    "### Train"
   ]
  },
  {
   "cell_type": "code",
   "execution_count": 13,
   "metadata": {
    "collapsed": true
   },
   "outputs": [],
   "source": [
    "import tqdm"
   ]
  },
  {
   "cell_type": "code",
   "execution_count": 14,
   "metadata": {
    "collapsed": true
   },
   "outputs": [],
   "source": [
    "def iterate_minibatches(X, y, batchsize):\n",
    "    n_samples = X.shape[0]\n",
    "    perm = np.arange(n_samples)\n",
    "    np.random.shuffle(perm)\n",
    "    for start in tqdm.tqdm(xrange(0, n_samples, batchsize)):\n",
    "        end = min(start+batchsize, n_samples)\n",
    "        batch_idx = perm[start:end]\n",
    "        yield X[batch_idx], y[batch_idx]"
   ]
  },
  {
   "cell_type": "code",
   "execution_count": 15,
   "metadata": {
    "collapsed": false,
    "scrolled": false
   },
   "outputs": [
    {
     "name": "stderr",
     "output_type": "stream",
     "text": [
      "100%|██████████| 176/176 [00:01<00:00, 89.67it/s]\n",
      "100%|██████████| 20/20 [00:00<00:00, 403.96it/s]\n",
      "  5%|▌         | 9/176 [00:00<00:01, 84.74it/s]"
     ]
    },
    {
     "name": "stdout",
     "output_type": "stream",
     "text": [
      "Epoch 1 of 25 took 2.017s\n",
      "  training loss (in-iteration):\t\t5.469642\n",
      "  train accuracy:\t\t97.50 %\n",
      "  validation accuracy:\t\t99.22 %\n"
     ]
    },
    {
     "name": "stderr",
     "output_type": "stream",
     "text": [
      "100%|██████████| 176/176 [00:01<00:00, 88.21it/s]\n",
      "100%|██████████| 20/20 [00:00<00:00, 417.13it/s]\n",
      "  6%|▌         | 10/176 [00:00<00:01, 99.66it/s]"
     ]
    },
    {
     "name": "stdout",
     "output_type": "stream",
     "text": [
      "Epoch 2 of 25 took 2.048s\n",
      "  training loss (in-iteration):\t\t0.724843\n",
      "  train accuracy:\t\t98.89 %\n",
      "  validation accuracy:\t\t99.38 %\n"
     ]
    },
    {
     "name": "stderr",
     "output_type": "stream",
     "text": [
      "100%|██████████| 176/176 [00:01<00:00, 94.89it/s]\n",
      "100%|██████████| 20/20 [00:00<00:00, 280.84it/s]\n",
      "  6%|▌         | 10/176 [00:00<00:01, 94.70it/s]"
     ]
    },
    {
     "name": "stdout",
     "output_type": "stream",
     "text": [
      "Epoch 3 of 25 took 1.931s\n",
      "  training loss (in-iteration):\t\t0.201484\n",
      "  train accuracy:\t\t99.03 %\n",
      "  validation accuracy:\t\t98.92 %\n"
     ]
    },
    {
     "name": "stderr",
     "output_type": "stream",
     "text": [
      "100%|██████████| 176/176 [00:01<00:00, 94.44it/s]\n",
      "100%|██████████| 20/20 [00:00<00:00, 490.50it/s]\n",
      "  6%|▋         | 11/176 [00:00<00:01, 100.53it/s]"
     ]
    },
    {
     "name": "stdout",
     "output_type": "stream",
     "text": [
      "Epoch 4 of 25 took 1.909s\n",
      "  training loss (in-iteration):\t\t0.111126\n",
      "  train accuracy:\t\t99.06 %\n",
      "  validation accuracy:\t\t99.34 %\n"
     ]
    },
    {
     "name": "stderr",
     "output_type": "stream",
     "text": [
      "100%|██████████| 176/176 [00:01<00:00, 92.94it/s]\n",
      "100%|██████████| 20/20 [00:00<00:00, 430.92it/s]\n",
      "  6%|▌         | 10/176 [00:00<00:01, 96.07it/s]"
     ]
    },
    {
     "name": "stdout",
     "output_type": "stream",
     "text": [
      "Epoch 5 of 25 took 1.945s\n",
      "  training loss (in-iteration):\t\t0.080539\n",
      "  train accuracy:\t\t99.13 %\n",
      "  validation accuracy:\t\t99.30 %\n"
     ]
    },
    {
     "name": "stderr",
     "output_type": "stream",
     "text": [
      "100%|██████████| 176/176 [00:01<00:00, 91.96it/s]\n",
      "100%|██████████| 20/20 [00:00<00:00, 486.50it/s]\n",
      "  6%|▌         | 10/176 [00:00<00:01, 98.20it/s]"
     ]
    },
    {
     "name": "stdout",
     "output_type": "stream",
     "text": [
      "Epoch 6 of 25 took 1.959s\n",
      "  training loss (in-iteration):\t\t0.063650\n",
      "  train accuracy:\t\t99.28 %\n",
      "  validation accuracy:\t\t99.53 %\n"
     ]
    },
    {
     "name": "stderr",
     "output_type": "stream",
     "text": [
      "100%|██████████| 176/176 [00:01<00:00, 95.35it/s]\n",
      "100%|██████████| 20/20 [00:00<00:00, 594.00it/s]\n",
      "  6%|▋         | 11/176 [00:00<00:01, 103.21it/s]"
     ]
    },
    {
     "name": "stdout",
     "output_type": "stream",
     "text": [
      "Epoch 7 of 25 took 1.883s\n",
      "  training loss (in-iteration):\t\t0.055707\n",
      "  train accuracy:\t\t99.33 %\n",
      "  validation accuracy:\t\t99.42 %\n"
     ]
    },
    {
     "name": "stderr",
     "output_type": "stream",
     "text": [
      "100%|██████████| 176/176 [00:01<00:00, 92.49it/s]\n",
      "100%|██████████| 20/20 [00:00<00:00, 467.26it/s]\n",
      "  5%|▍         | 8/176 [00:00<00:02, 70.11it/s]"
     ]
    },
    {
     "name": "stdout",
     "output_type": "stream",
     "text": [
      "Epoch 8 of 25 took 1.950s\n",
      "  training loss (in-iteration):\t\t0.053240\n",
      "  train accuracy:\t\t99.33 %\n",
      "  validation accuracy:\t\t99.50 %\n"
     ]
    },
    {
     "name": "stderr",
     "output_type": "stream",
     "text": [
      "100%|██████████| 176/176 [00:01<00:00, 94.58it/s]\n",
      "100%|██████████| 20/20 [00:00<00:00, 601.21it/s]\n",
      "  6%|▋         | 11/176 [00:00<00:01, 102.32it/s]"
     ]
    },
    {
     "name": "stdout",
     "output_type": "stream",
     "text": [
      "Epoch 9 of 25 took 1.898s\n",
      "  training loss (in-iteration):\t\t0.050989\n",
      "  train accuracy:\t\t99.34 %\n",
      "  validation accuracy:\t\t99.38 %\n"
     ]
    },
    {
     "name": "stderr",
     "output_type": "stream",
     "text": [
      "100%|██████████| 176/176 [00:01<00:00, 91.82it/s]\n",
      "100%|██████████| 20/20 [00:00<00:00, 497.14it/s]\n",
      "  6%|▋         | 11/176 [00:00<00:01, 101.35it/s]"
     ]
    },
    {
     "name": "stdout",
     "output_type": "stream",
     "text": [
      "Epoch 10 of 25 took 1.961s\n",
      "  training loss (in-iteration):\t\t0.048570\n",
      "  train accuracy:\t\t99.37 %\n",
      "  validation accuracy:\t\t99.45 %\n"
     ]
    },
    {
     "name": "stderr",
     "output_type": "stream",
     "text": [
      "100%|██████████| 176/176 [00:01<00:00, 94.99it/s]\n",
      "100%|██████████| 20/20 [00:00<00:00, 502.54it/s]\n",
      "  5%|▌         | 9/176 [00:00<00:01, 89.80it/s]"
     ]
    },
    {
     "name": "stdout",
     "output_type": "stream",
     "text": [
      "Epoch 11 of 25 took 1.896s\n",
      "  training loss (in-iteration):\t\t0.046921\n",
      "  train accuracy:\t\t99.37 %\n",
      "  validation accuracy:\t\t99.42 %\n"
     ]
    },
    {
     "name": "stderr",
     "output_type": "stream",
     "text": [
      "100%|██████████| 176/176 [00:01<00:00, 94.22it/s]\n",
      "100%|██████████| 20/20 [00:00<00:00, 279.51it/s]\n",
      "  5%|▌         | 9/176 [00:00<00:01, 85.22it/s]"
     ]
    },
    {
     "name": "stdout",
     "output_type": "stream",
     "text": [
      "Epoch 12 of 25 took 1.944s\n",
      "  training loss (in-iteration):\t\t0.044955\n",
      "  train accuracy:\t\t99.49 %\n",
      "  validation accuracy:\t\t99.49 %\n"
     ]
    },
    {
     "name": "stderr",
     "output_type": "stream",
     "text": [
      "100%|██████████| 176/176 [00:01<00:00, 88.39it/s]\n",
      "100%|██████████| 20/20 [00:00<00:00, 599.02it/s]\n",
      "  5%|▌         | 9/176 [00:00<00:02, 79.73it/s]"
     ]
    },
    {
     "name": "stdout",
     "output_type": "stream",
     "text": [
      "Epoch 13 of 25 took 2.033s\n",
      "  training loss (in-iteration):\t\t0.043954\n",
      "  train accuracy:\t\t99.42 %\n",
      "  validation accuracy:\t\t99.45 %\n"
     ]
    },
    {
     "name": "stderr",
     "output_type": "stream",
     "text": [
      "100%|██████████| 176/176 [00:01<00:00, 91.44it/s]\n",
      "100%|██████████| 20/20 [00:00<00:00, 455.50it/s]\n",
      "  6%|▌         | 10/176 [00:00<00:01, 98.60it/s]"
     ]
    },
    {
     "name": "stdout",
     "output_type": "stream",
     "text": [
      "Epoch 14 of 25 took 1.974s\n",
      "  training loss (in-iteration):\t\t0.042776\n",
      "  train accuracy:\t\t99.47 %\n",
      "  validation accuracy:\t\t99.34 %\n"
     ]
    },
    {
     "name": "stderr",
     "output_type": "stream",
     "text": [
      "100%|██████████| 176/176 [00:01<00:00, 94.49it/s]\n",
      "100%|██████████| 20/20 [00:00<00:00, 544.88it/s]\n",
      "  5%|▍         | 8/176 [00:00<00:02, 76.43it/s]"
     ]
    },
    {
     "name": "stdout",
     "output_type": "stream",
     "text": [
      "Epoch 15 of 25 took 1.904s\n",
      "  training loss (in-iteration):\t\t0.042567\n",
      "  train accuracy:\t\t99.50 %\n",
      "  validation accuracy:\t\t99.45 %\n"
     ]
    },
    {
     "name": "stderr",
     "output_type": "stream",
     "text": [
      "100%|██████████| 176/176 [00:01<00:00, 90.38it/s]\n",
      "100%|██████████| 20/20 [00:00<00:00, 473.77it/s]\n",
      "  6%|▌         | 10/176 [00:00<00:01, 97.00it/s]"
     ]
    },
    {
     "name": "stdout",
     "output_type": "stream",
     "text": [
      "Epoch 16 of 25 took 1.993s\n",
      "  training loss (in-iteration):\t\t0.041698\n",
      "  train accuracy:\t\t99.50 %\n",
      "  validation accuracy:\t\t99.49 %\n"
     ]
    },
    {
     "name": "stderr",
     "output_type": "stream",
     "text": [
      "100%|██████████| 176/176 [00:01<00:00, 91.28it/s]\n",
      "100%|██████████| 20/20 [00:00<00:00, 598.93it/s]\n",
      "  6%|▋         | 11/176 [00:00<00:01, 104.23it/s]"
     ]
    },
    {
     "name": "stdout",
     "output_type": "stream",
     "text": [
      "Epoch 17 of 25 took 1.965s\n",
      "  training loss (in-iteration):\t\t0.041381\n",
      "  train accuracy:\t\t99.48 %\n",
      "  validation accuracy:\t\t99.49 %\n"
     ]
    },
    {
     "name": "stderr",
     "output_type": "stream",
     "text": [
      "100%|██████████| 176/176 [00:01<00:00, 91.47it/s]\n",
      "100%|██████████| 20/20 [00:00<00:00, 525.62it/s]\n",
      "  5%|▍         | 8/176 [00:00<00:02, 72.36it/s]"
     ]
    },
    {
     "name": "stdout",
     "output_type": "stream",
     "text": [
      "Epoch 18 of 25 took 1.967s\n",
      "  training loss (in-iteration):\t\t0.041592\n",
      "  train accuracy:\t\t99.44 %\n",
      "  validation accuracy:\t\t99.57 %\n"
     ]
    },
    {
     "name": "stderr",
     "output_type": "stream",
     "text": [
      "100%|██████████| 176/176 [00:01<00:00, 90.58it/s]\n",
      "100%|██████████| 20/20 [00:00<00:00, 478.45it/s]\n",
      "  6%|▌         | 10/176 [00:00<00:01, 93.11it/s]"
     ]
    },
    {
     "name": "stdout",
     "output_type": "stream",
     "text": [
      "Epoch 19 of 25 took 1.989s\n",
      "  training loss (in-iteration):\t\t0.041190\n",
      "  train accuracy:\t\t99.47 %\n",
      "  validation accuracy:\t\t99.46 %\n"
     ]
    },
    {
     "name": "stderr",
     "output_type": "stream",
     "text": [
      "100%|██████████| 176/176 [00:01<00:00, 88.27it/s]\n",
      "100%|██████████| 20/20 [00:00<00:00, 492.44it/s]\n",
      "  6%|▌         | 10/176 [00:00<00:01, 91.92it/s]"
     ]
    },
    {
     "name": "stdout",
     "output_type": "stream",
     "text": [
      "Epoch 20 of 25 took 2.039s\n",
      "  training loss (in-iteration):\t\t0.040982\n",
      "  train accuracy:\t\t99.49 %\n",
      "  validation accuracy:\t\t99.46 %\n"
     ]
    },
    {
     "name": "stderr",
     "output_type": "stream",
     "text": [
      "100%|██████████| 176/176 [00:01<00:00, 89.68it/s]\n",
      "100%|██████████| 20/20 [00:00<00:00, 587.70it/s]\n",
      "  5%|▌         | 9/176 [00:00<00:01, 84.21it/s]"
     ]
    },
    {
     "name": "stdout",
     "output_type": "stream",
     "text": [
      "Epoch 21 of 25 took 2.001s\n",
      "  training loss (in-iteration):\t\t0.039659\n",
      "  train accuracy:\t\t99.55 %\n",
      "  validation accuracy:\t\t99.49 %\n"
     ]
    },
    {
     "name": "stderr",
     "output_type": "stream",
     "text": [
      "100%|██████████| 176/176 [00:01<00:00, 89.90it/s]\n",
      "100%|██████████| 20/20 [00:00<00:00, 493.35it/s]\n",
      "  6%|▋         | 11/176 [00:00<00:01, 100.07it/s]"
     ]
    },
    {
     "name": "stdout",
     "output_type": "stream",
     "text": [
      "Epoch 22 of 25 took 1.971s\n",
      "  training loss (in-iteration):\t\t0.040123\n",
      "  train accuracy:\t\t99.51 %\n",
      "  validation accuracy:\t\t99.34 %\n"
     ]
    },
    {
     "name": "stderr",
     "output_type": "stream",
     "text": [
      "100%|██████████| 176/176 [00:01<00:00, 92.31it/s]\n",
      "100%|██████████| 20/20 [00:00<00:00, 576.60it/s]\n",
      "  6%|▋         | 11/176 [00:00<00:01, 101.94it/s]"
     ]
    },
    {
     "name": "stdout",
     "output_type": "stream",
     "text": [
      "Epoch 23 of 25 took 1.945s\n",
      "  training loss (in-iteration):\t\t0.041061\n",
      "  train accuracy:\t\t99.48 %\n",
      "  validation accuracy:\t\t99.50 %\n"
     ]
    },
    {
     "name": "stderr",
     "output_type": "stream",
     "text": [
      "100%|██████████| 176/176 [00:01<00:00, 93.06it/s]\n",
      "100%|██████████| 20/20 [00:00<00:00, 449.57it/s]\n",
      "  5%|▌         | 9/176 [00:00<00:02, 83.13it/s]"
     ]
    },
    {
     "name": "stdout",
     "output_type": "stream",
     "text": [
      "Epoch 24 of 25 took 1.940s\n",
      "  training loss (in-iteration):\t\t0.039904\n",
      "  train accuracy:\t\t99.53 %\n",
      "  validation accuracy:\t\t99.50 %\n"
     ]
    },
    {
     "name": "stderr",
     "output_type": "stream",
     "text": [
      "100%|██████████| 176/176 [00:01<00:00, 93.28it/s]\n",
      "100%|██████████| 20/20 [00:00<00:00, 592.84it/s]"
     ]
    },
    {
     "name": "stdout",
     "output_type": "stream",
     "text": [
      "Epoch 25 of 25 took 1.925s\n",
      "  training loss (in-iteration):\t\t0.040023\n",
      "  train accuracy:\t\t99.53 %\n",
      "  validation accuracy:\t\t99.53 %\n"
     ]
    },
    {
     "name": "stderr",
     "output_type": "stream",
     "text": [
      "\n"
     ]
    }
   ],
   "source": [
    "import time\n",
    "\n",
    "num_epochs = 25\n",
    "\n",
    "batch_size = 128\n",
    "\n",
    "for epoch in range(num_epochs):\n",
    "    # In each epoch, we do a full pass over the training data:\n",
    "    train_err = 0\n",
    "    train_acc = 0\n",
    "    train_batches = 0\n",
    "    start_time = time.time()\n",
    "    for batch in iterate_minibatches(X_train, y_train, batch_size):\n",
    "        inputs, targets = batch\n",
    "        train_err_batch, train_acc_batch = train_fun(inputs, targets)\n",
    "        train_err += train_err_batch\n",
    "        train_acc += train_acc_batch\n",
    "        train_batches += 1\n",
    "        \n",
    "    # And a full pass over the validation data:\n",
    "    val_acc = 0\n",
    "    val_batches = 0\n",
    "    for batch in iterate_minibatches(X_val, y_val, batch_size):\n",
    "        inputs, targets = batch\n",
    "        predicted_y = predict_fun(inputs)\n",
    "        val_acc += (predicted_y.argmax(axis=1) == targets).mean()\n",
    "        val_batches += 1\n",
    "    if (epoch + 1) % 5 == 0:\n",
    "        lr.set_value(lr.get_value() / 4)\n",
    "    # Then we print the results for this epoch:\n",
    "    print(\"Epoch {} of {} took {:.3f}s\".format(epoch + 1, num_epochs, time.time() - start_time))\n",
    "    print(\"  training loss (in-iteration):\\t\\t{:.6f}\".format(train_err / train_batches))\n",
    "    print(\"  train accuracy:\\t\\t{:.2f} %\".format(train_acc / train_batches * 100))\n",
    "    print(\"  validation accuracy:\\t\\t{:.2f} %\".format(val_acc / val_batches * 100))"
   ]
  },
  {
   "cell_type": "markdown",
   "metadata": {},
   "source": [
    "### Create submission"
   ]
  },
  {
   "cell_type": "code",
   "execution_count": 16,
   "metadata": {
    "collapsed": true
   },
   "outputs": [],
   "source": [
    "y_test = predict_fun(X_test).argmax(axis=1)"
   ]
  },
  {
   "cell_type": "code",
   "execution_count": 17,
   "metadata": {
    "collapsed": false
   },
   "outputs": [],
   "source": [
    "import pandas as pd"
   ]
  },
  {
   "cell_type": "code",
   "execution_count": 18,
   "metadata": {
    "collapsed": false
   },
   "outputs": [],
   "source": [
    "test_files = [('%d.jpg' % (i)) for i in range(1000)]\n",
    "labels = ['dog' if y else 'cat' for y in y_test]\n",
    "df = pd.DataFrame({'file' : test_files, 'label' : labels})\n",
    "df.to_csv('submission.csv', index=False)"
   ]
  },
  {
   "cell_type": "code",
   "execution_count": null,
   "metadata": {
    "collapsed": true
   },
   "outputs": [],
   "source": []
  }
 ],
 "metadata": {
  "anaconda-cloud": {},
  "kernelspec": {
   "display_name": "Python [default]",
   "language": "python",
   "name": "python2"
  },
  "language_info": {
   "codemirror_mode": {
    "name": "ipython",
    "version": 2
   },
   "file_extension": ".py",
   "mimetype": "text/x-python",
   "name": "python",
   "nbconvert_exporter": "python",
   "pygments_lexer": "ipython2",
   "version": "2.7.12"
  }
 },
 "nbformat": 4,
 "nbformat_minor": 1
}
